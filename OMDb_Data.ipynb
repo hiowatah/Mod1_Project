{
 "cells": [
  {
   "cell_type": "code",
   "execution_count": 124,
   "metadata": {},
   "outputs": [],
   "source": [
    "from configparser import ConfigParser  \n",
    "import requests\n",
    "import json\n",
    "import pandas as pd\n",
    "import IMDB_Data"
   ]
  },
  {
   "cell_type": "code",
   "execution_count": 65,
   "metadata": {},
   "outputs": [
    {
     "data": {
      "text/plain": [
       "str"
      ]
     },
     "execution_count": 65,
     "metadata": {},
     "output_type": "execute_result"
    }
   ],
   "source": [
    "# config = ConfigParser()  \n",
    "# config.read('./omdb_config.ini')  \n",
    "# api_key = config.get('auth', 'api_key')  \n",
    "# type(api_key)"
   ]
  },
  {
   "cell_type": "code",
   "execution_count": 125,
   "metadata": {},
   "outputs": [],
   "source": [
    "def omdb_call():\n",
    "    \n",
    "    # use configparser to open the .ini file to access the api url and token\n",
    "    config = ConfigParser()  \n",
    "    config.read('./omdb_config.ini')  \n",
    "    api_key = config.get('auth', 'api_key')  \n",
    "    url = config.get('instance', 'url_base')  \n",
    "    \n",
    "    imdb_titleID = IMDB_Data.imdb_titleID\n",
    "    \n",
    "    params = {'i': 'tt3896198',\n",
    "                        'type': 'movie',\n",
    "                        'plot': 'short',\n",
    "                        'apikey': api_key}\n",
    "        \n",
    "    # make api call to obtain data\n",
    "    response = requests.get(url, params=params, allow_redirects=False)\n",
    "            \n",
    "    return response.json()"
   ]
  },
  {
   "cell_type": "code",
   "execution_count": 120,
   "metadata": {},
   "outputs": [],
   "source": [
    "def omdb_call():\n",
    "    \n",
    "    # use configparser to open the .ini file to access the api url and token\n",
    "    config = ConfigParser()  \n",
    "    config.read('./omdb_config.ini')  \n",
    "    api_key = config.get('auth', 'api_key')  \n",
    "    url = config.get('instance', 'url_base')  \n",
    "    \n",
    "    imdb_titleID = IMDB_Data.imdb_titleID\n",
    "    \n",
    "    data = []\n",
    "    for i in range(len(imdb_titleID)):\n",
    "            \n",
    "        params = {'i': imdb_titleID[i],\n",
    "                        'type': 'movie',\n",
    "                        'plot': 'short',\n",
    "                        'apikey': api_key}\n",
    "        \n",
    "        # make api call to obtain data\n",
    "        response = requests.get(url, params=params, allow_redirects=False)\n",
    "            \n",
    "    return data"
   ]
  },
  {
   "cell_type": "code",
   "execution_count": 126,
   "metadata": {},
   "outputs": [
    {
     "data": {
      "text/plain": [
       "{'Response': 'False', 'Error': 'Request limit reached!'}"
      ]
     },
     "execution_count": 126,
     "metadata": {},
     "output_type": "execute_result"
    }
   ],
   "source": [
    "movies = omdb_call()\n",
    "movies"
   ]
  },
  {
   "cell_type": "code",
   "execution_count": null,
   "metadata": {},
   "outputs": [],
   "source": []
  },
  {
   "cell_type": "code",
   "execution_count": null,
   "metadata": {},
   "outputs": [],
   "source": []
  }
 ],
 "metadata": {
  "kernelspec": {
   "display_name": "Python 3",
   "language": "python",
   "name": "python3"
  },
  "language_info": {
   "codemirror_mode": {
    "name": "ipython",
    "version": 3
   },
   "file_extension": ".py",
   "mimetype": "text/x-python",
   "name": "python",
   "nbconvert_exporter": "python",
   "pygments_lexer": "ipython3",
   "version": "3.7.2"
  }
 },
 "nbformat": 4,
 "nbformat_minor": 2
}
